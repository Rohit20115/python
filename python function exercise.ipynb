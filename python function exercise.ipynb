{
 "cells": [
  {
   "cell_type": "code",
   "execution_count": 1,
   "id": "99a74cc3",
   "metadata": {},
   "outputs": [
    {
     "name": "stdout",
     "output_type": "stream",
     "text": [
      "100\n"
     ]
    }
   ],
   "source": [
    "#write a function called exponent(base,exp) that return an int value of base raises to the power of exp.\n",
    "\n",
    "def exponent(base,exp):\n",
    "    result = pow(base,exp)\n",
    "    print(result)\n",
    "exponent(10,2)"
   ]
  },
  {
   "cell_type": "code",
   "execution_count": 13,
   "id": "2b53a024",
   "metadata": {},
   "outputs": [
    {
     "name": "stdout",
     "output_type": "stream",
     "text": [
      "Name of the person is Rohit and age is 18 \n"
     ]
    }
   ],
   "source": [
    "#write aa program to creat a function that takes two arguments name and age and print their value.\n",
    "\n",
    "def biodata(name,age):\n",
    "    print(\"Name of the person is {} and age is {} \".format(name,age))\n",
    "    \n",
    "biodata(\"Rohit\",18)"
   ]
  },
  {
   "cell_type": "code",
   "execution_count": 15,
   "id": "2a697566",
   "metadata": {},
   "outputs": [
    {
     "name": "stdout",
     "output_type": "stream",
     "text": [
      "true\n"
     ]
    }
   ],
   "source": [
    "#write a function two return true if the first and last number of a given list is same.\n",
    "#if numbers are diffrent then return false.\n",
    "\n",
    "l1 = [1,2,3,4,5,1]\n",
    "\n",
    "num1 = l1[0]\n",
    "num2 = l1[-1]\n",
    "\n",
    "def xyz(list):\n",
    "    if num1 == num2:\n",
    "        print(\"true\")\n",
    "    else:\n",
    "        print(\"false\")\n",
    "    \n",
    "xyz(l1)\n"
   ]
  },
  {
   "cell_type": "code",
   "execution_count": 19,
   "id": "34bf362a",
   "metadata": {},
   "outputs": [
    {
     "name": "stdout",
     "output_type": "stream",
     "text": [
      "enter the number :34\n",
      "enter the second number : 34\n",
      "total\n",
      "None\n"
     ]
    }
   ],
   "source": [
    "#given two integer numbers return their product only if the product is equal to or lower then 1000 else return their sum.\n",
    "\n",
    "num1 = int(input(\"enter the number :\"))\n",
    "num2 = int(input(\"enter the second number : \"))\n",
    "\n",
    "def mul_sum_int(num1,num2):\n",
    "    mul = num1*num2\n",
    "    total =num1+num2\n",
    "    \n",
    "    if mul<=1000:\n",
    "        print(\"mul\")\n",
    "    else:\n",
    "        print(\"total\")\n",
    "        \n",
    "print(mul_sum_int(num1,num2))"
   ]
  },
  {
   "cell_type": "code",
   "execution_count": 21,
   "id": "bcd78c9b",
   "metadata": {},
   "outputs": [],
   "source": [
    "#collecting arbitrary number of arguments\n",
    "\n",
    "def make_pizza(size,toppings):\n",
    "    print(\"makking {size} pizza : \")\n",
    "    print(\"toppings : \")\n",
    "    for i in toppings:\n",
    "        print(i)"
   ]
  },
  {
   "cell_type": "code",
   "execution_count": 25,
   "id": "ea381d31",
   "metadata": {},
   "outputs": [
    {
     "name": "stdout",
     "output_type": "stream",
     "text": [
      "makking {size} pizza : \n",
      "toppings : \n",
      "b\n",
      "u\n",
      "t\n",
      "t\n",
      "e\n",
      "r\n"
     ]
    }
   ],
   "source": [
    "make_pizza(\"small\",\"butter\")"
   ]
  },
  {
   "cell_type": "code",
   "execution_count": 28,
   "id": "5f261460",
   "metadata": {},
   "outputs": [
    {
     "name": "stdout",
     "output_type": "stream",
     "text": [
      "makking {size} pizza : \n",
      "toppings : \n",
      "a\n",
      "m\n",
      "l\n",
      "i\n"
     ]
    }
   ],
   "source": [
    "make_pizza(\"medium\",\"amli\")"
   ]
  },
  {
   "cell_type": "code",
   "execution_count": null,
   "id": "9cb1cc64",
   "metadata": {},
   "outputs": [],
   "source": [
    "#"
   ]
  }
 ],
 "metadata": {
  "kernelspec": {
   "display_name": "Python 3 (ipykernel)",
   "language": "python",
   "name": "python3"
  },
  "language_info": {
   "codemirror_mode": {
    "name": "ipython",
    "version": 3
   },
   "file_extension": ".py",
   "mimetype": "text/x-python",
   "name": "python",
   "nbconvert_exporter": "python",
   "pygments_lexer": "ipython3",
   "version": "3.11.4"
  }
 },
 "nbformat": 4,
 "nbformat_minor": 5
}
