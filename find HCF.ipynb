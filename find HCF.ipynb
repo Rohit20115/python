{
 "cells": [
  {
   "cell_type": "code",
   "execution_count": 1,
   "id": "2cfc6bd1",
   "metadata": {},
   "outputs": [],
   "source": [
    "#user will provide two numbers you have to find the HCF of these two numbers.\n",
    "\n",
    "\n",
    "x = int(input(\"enter the number : \"))\n",
    "y = int(input(\"enter the number : \"))\n",
    "\n",
    "x_div = []\n",
    "y_div = []\n",
    "\n",
    "for i in range(1,x+1):\n",
    "    if x%i == 0:\n",
    "        x_div.append(i)\n",
    "        \n",
    "for i in range(1,y+1):\n",
    "    if y%i == 0:\n",
    "        y_div.append(i)\n",
    "        \n",
    "comman_list = []\n",
    "\n",
    "for i in x_div:\n",
    "    if i in y_div:\n",
    "        comman_list.append(i)\n",
    "        \n",
    "print(\"HCF of given two numbers is :\",max(comman_list))\n"
   ]
  }
 ],
 "metadata": {
  "kernelspec": {
   "display_name": "Python 3 (ipykernel)",
   "language": "python",
   "name": "python3"
  },
  "language_info": {
   "codemirror_mode": {
    "name": "ipython",
    "version": 3
   },
   "file_extension": ".py",
   "mimetype": "text/x-python",
   "name": "python",
   "nbconvert_exporter": "python",
   "pygments_lexer": "ipython3",
   "version": "3.12.1"
  }
 },
 "nbformat": 4,
 "nbformat_minor": 5
}
