{
 "cells": [
  {
   "cell_type": "code",
   "execution_count": 1,
   "id": "3b22a9ad",
   "metadata": {},
   "outputs": [],
   "source": [
    "#python input and output exercise"
   ]
  },
  {
   "cell_type": "code",
   "execution_count": 2,
   "id": "0e0d0fbd",
   "metadata": {},
   "outputs": [
    {
     "name": "stdout",
     "output_type": "stream",
     "text": [
      "enter the number: Rohit\n"
     ]
    }
   ],
   "source": [
    "#accept numbers from a user\n",
    "\n",
    "name = input(\"enter the number: \")"
   ]
  },
  {
   "cell_type": "code",
   "execution_count": 3,
   "id": "5122c637",
   "metadata": {},
   "outputs": [
    {
     "name": "stdout",
     "output_type": "stream",
     "text": [
      "name**is**james\n"
     ]
    }
   ],
   "source": [
    "#display three string \"Name\",\"is\",\"james\",as \"Name**is**james\"\n",
    "\n",
    "print(\"name\",\"is\",\"james\",sep = \"**\")"
   ]
  },
  {
   "cell_type": "code",
   "execution_count": 5,
   "id": "dc08b98d",
   "metadata": {},
   "outputs": [
    {
     "name": "stdout",
     "output_type": "stream",
     "text": [
      "enter the number:12\n",
      "14\n"
     ]
    }
   ],
   "source": [
    "#convert decimal number to octal number using print() output formatting the octal number of decimal number 8 is 10.\n",
    "\n",
    "number=int(input(\"enter the number:\"))\n",
    "print(oct(number)[-2:])"
   ]
  },
  {
   "cell_type": "code",
   "execution_count": 8,
   "id": "4d17931e",
   "metadata": {},
   "outputs": [
    {
     "ename": "NameError",
     "evalue": "name 'num' is not defined",
     "output_type": "error",
     "traceback": [
      "\u001b[1;31m---------------------------------------------------------------------------\u001b[0m",
      "\u001b[1;31mNameError\u001b[0m                                 Traceback (most recent call last)",
      "Cell \u001b[1;32mIn[8], line 5\u001b[0m\n\u001b[0;32m      1\u001b[0m \u001b[38;5;66;03m#display float number with 2 decimal places using print()\u001b[39;00m\n\u001b[0;32m      3\u001b[0m number \u001b[38;5;241m=\u001b[39m \u001b[38;5;241m84.43\u001b[39m\n\u001b[1;32m----> 5\u001b[0m y \u001b[38;5;241m=\u001b[39m \u001b[38;5;28mfloat\u001b[39m(\u001b[38;5;28mround\u001b[39m(num,\u001b[38;5;241m2\u001b[39m))\n\u001b[0;32m      7\u001b[0m \u001b[38;5;28mprint\u001b[39m(y)\n",
      "\u001b[1;31mNameError\u001b[0m: name 'num' is not defined"
     ]
    }
   ],
   "source": [
    "#display float number with 2 decimal places using print()\n",
    "\n",
    "number = 84.43\n",
    "\n",
    "y = float(round(num,2))\n",
    "\n",
    "print(y)"
   ]
  },
  {
   "cell_type": "code",
   "execution_count": 9,
   "id": "e5a96279",
   "metadata": {},
   "outputs": [
    {
     "name": "stdout",
     "output_type": "stream",
     "text": [
      "enter the number: 45\n",
      "1 3 5 9 15 45 "
     ]
    }
   ],
   "source": [
    "#print all factorial of a given number provided by the user.\n",
    "\n",
    "n = int(input(\"enter the number: \"))\n",
    "\n",
    "for i in range(1,n+1):\n",
    "    if n%i == 0:\n",
    "        print(i,end=\" \")"
   ]
  },
  {
   "cell_type": "code",
   "execution_count": 14,
   "id": "af210b3e",
   "metadata": {},
   "outputs": [
    {
     "name": "stdout",
     "output_type": "stream",
     "text": [
      "enter the number: 54.7\n",
      "enter the number: 75.87\n",
      "enter the number: 63.87\n",
      "enter the number: 95.67\n",
      "enter the number: 53.89\n",
      "[54.7, 75.87, 63.87, 95.67, 53.89]\n"
     ]
    }
   ],
   "source": [
    "#accept a list of 5 float numbers as animped from the users.\n",
    "\n",
    "l1 = []\n",
    "\n",
    "while len(l1)<5:\n",
    "    n = float(input(\"enter the number: \"))\n",
    "    l1.append(n)\n",
    "print(l1)"
   ]
  },
  {
   "cell_type": "code",
   "execution_count": 1,
   "id": "8293c781",
   "metadata": {},
   "outputs": [
    {
     "name": "stdout",
     "output_type": "stream",
     "text": [
      "enter the three name with keeping space in between: Rohit mohit ram\n",
      "Rohit\n",
      "mohit\n",
      "ram\n"
     ]
    }
   ],
   "source": [
    "#accept any three string from one input() call.\n",
    "\n",
    "inp = input(\"enter the three name with keeping space in between: \")\n",
    "\n",
    "sep = inp.split()\n",
    "\n",
    "name1 = sep[0]\n",
    "name2 = sep[1]\n",
    "name3 = sep[2]\n",
    "\n",
    "print(name1)\n",
    "print(name2)\n",
    "print(name3)"
   ]
  },
  {
   "cell_type": "code",
   "execution_count": 2,
   "id": "14bf55aa",
   "metadata": {},
   "outputs": [
    {
     "name": "stdout",
     "output_type": "stream",
     "text": [
      "i have 100 rupees so i can by 2 pen for 50 rupees\n"
     ]
    }
   ],
   "source": [
    "#format variables using a string.format() method.\n",
    "\n",
    "totalmoney = 100\n",
    "quantity = 2\n",
    "price = 50\n",
    "\n",
    "print(\"i have {} rupees so i can by {} pen for {} rupees\".format(totalmoney,quantity,price))\n"
   ]
  },
  {
   "cell_type": "code",
   "execution_count": 5,
   "id": "cf062ce7",
   "metadata": {},
   "outputs": [
    {
     "name": "stdout",
     "output_type": "stream",
     "text": [
      "enter the principle100\n",
      "enter the rate2\n",
      "enter the time periods2\n",
      "4.0\n",
      "total due amount will need to pay will be  104.0\n"
     ]
    }
   ],
   "source": [
    "#write a program to find the simple interest when thwe value of principle,rate of interest is time periods is given.\n",
    "\n",
    "P = float(input(\"enter the principle : \"))\n",
    "R = float(input(\"enter the rate : \"))\n",
    "T = int(input(\"enter the time periods : \"))\n",
    "\n",
    "simple_interest = (P*R*T)/100\n",
    "\n",
    "print(simple_interest)\n",
    "\n",
    "total_due = P + simple_interest\n",
    "\n",
    "print(\"total due amount will need to pay will be \",total_due)"
   ]
  },
  {
   "cell_type": "code",
   "execution_count": 5,
   "id": "bab1c0a7",
   "metadata": {},
   "outputs": [
    {
     "name": "stdout",
     "output_type": "stream",
     "text": [
      "enter the radius of cylinder in cm : 56\n",
      "enter the height of cylinder in cm : 5\n",
      "volume of cylinder will be  49266.56\n",
      "how much milk we can carry in this cylinder  49.26656 49.26656\n",
      "this cost of that milk be  1970.6624\n"
     ]
    }
   ],
   "source": [
    "#write a program to find the volume of the cylinder also find the cost when the cost of 1 liter milk is 40Rs.\n",
    "\n",
    "rad = float(input(\"enter the radius of cylinder in cm : \"))\n",
    "ht = float(input(\"enter the height of cylinder in cm : \"))\n",
    "\n",
    "vol = 3.142 * (rad**2)*ht\n",
    "litr = vol/1000\n",
    "cost = litr*40\n",
    "\n",
    "print(\"volume of cylinder will be \",vol)\n",
    "print(\"how much milk we can carry in this cylinder \",litr,litr)\n",
    "print(\"this cost of that milk be \",cost)\n"
   ]
  },
  {
   "cell_type": "code",
   "execution_count": null,
   "id": "6870e428",
   "metadata": {},
   "outputs": [],
   "source": []
  }
 ],
 "metadata": {
  "kernelspec": {
   "display_name": "Python 3 (ipykernel)",
   "language": "python",
   "name": "python3"
  },
  "language_info": {
   "codemirror_mode": {
    "name": "ipython",
    "version": 3
   },
   "file_extension": ".py",
   "mimetype": "text/x-python",
   "name": "python",
   "nbconvert_exporter": "python",
   "pygments_lexer": "ipython3",
   "version": "3.11.4"
  }
 },
 "nbformat": 4,
 "nbformat_minor": 5
}
