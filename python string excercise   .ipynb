{
 "cells": [
  {
   "cell_type": "code",
   "execution_count": 1,
   "id": "c8bf4e13",
   "metadata": {},
   "outputs": [
    {
     "name": "stdout",
     "output_type": "stream",
     "text": [
      "3\n"
     ]
    }
   ],
   "source": [
    "#return the count of a given substring from a string.\n",
    "\n",
    "#write a program to find how many times substring \"RAdha\" apperars in the given string.\n",
    "\n",
    "sentence = \"radha is most beautiful,radha is queen of vraj , radha is most beloved to govind \"\n",
    "\n",
    "x = sentence.count(\"radha\")\n",
    "\n",
    "print(x)\n"
   ]
  },
  {
   "cell_type": "code",
   "execution_count": 2,
   "id": "50c64ca3",
   "metadata": {},
   "outputs": [
    {
     "name": "stdout",
     "output_type": "stream",
     "text": [
      "enter the text : Rohit\n",
      "Rohit\n",
      "R h t "
     ]
    }
   ],
   "source": [
    "#print characters from a string that are present at an even index number.\n",
    "\n",
    "string = input(\"enter the text : \")\n",
    "\n",
    "x = list(string)\n",
    "\n",
    "print(string)\n",
    "\n",
    "for i in x[0::2]:\n",
    "    print(i,end = \" \")\n"
   ]
  },
  {
   "cell_type": "code",
   "execution_count": 15,
   "id": "5d27f75d",
   "metadata": {},
   "outputs": [
    {
     "name": "stdout",
     "output_type": "stream",
     "text": [
      "hit\n",
      "hit\n",
      "hit\n",
      "hit\n",
      "hit\n"
     ]
    }
   ],
   "source": [
    "#write a program to remove characters from a string starting from zero up to n and return.\n",
    "\n",
    "def remove (word,n):\n",
    "    \n",
    "    x = len(word)\n",
    "    p = list(word)\n",
    "    \n",
    "    for i in p:\n",
    "        if n<=x:\n",
    "            z = word[n:]\n",
    "        print(z)\n",
    "        \n",
    "remove(\"Rohit\",2)\n",
    "    "
   ]
  },
  {
   "cell_type": "code",
   "execution_count": 23,
   "id": "c5cc2727",
   "metadata": {},
   "outputs": [
    {
     "name": "stdout",
     "output_type": "stream",
     "text": [
      "R\n",
      "t\n"
     ]
    }
   ],
   "source": [
    "#create a string made of the first ,middle and last character\n",
    "\n",
    "name = \"Rohit\"\n",
    "\n",
    "a = name[0]\n",
    "print(a)\n",
    "\n",
    "b = name[-1]\n",
    "print(b)\n"
   ]
  },
  {
   "cell_type": "code",
   "execution_count": 26,
   "id": "a745252d",
   "metadata": {},
   "outputs": [
    {
     "ename": "NameError",
     "evalue": "name 'clean_sentence' is not defined",
     "output_type": "error",
     "traceback": [
      "\u001b[1;31m---------------------------------------------------------------------------\u001b[0m",
      "\u001b[1;31mNameError\u001b[0m                                 Traceback (most recent call last)",
      "Cell \u001b[1;32mIn[26], line 7\u001b[0m\n\u001b[0;32m      3\u001b[0m sentence \u001b[38;5;241m=\u001b[39m \u001b[38;5;124m\"\u001b[39m\u001b[38;5;124mRohit@gmail.com\u001b[39m\u001b[38;5;124m\"\u001b[39m\n\u001b[0;32m      5\u001b[0m \u001b[38;5;28;01mimport\u001b[39;00m \u001b[38;5;21;01mre\u001b[39;00m\n\u001b[1;32m----> 7\u001b[0m clean_sentence\u001b[38;5;241m.\u001b[39msub(\u001b[38;5;124m'\u001b[39m\u001b[38;5;124m[^A-Za-z0-9\u001b[39m\u001b[38;5;124m\\\u001b[39m\u001b[38;5;124ms]+\u001b[39m\u001b[38;5;124m'\u001b[39m,\u001b[38;5;124m\"\u001b[39m\u001b[38;5;124m\"\u001b[39m,sentence)\n\u001b[0;32m      9\u001b[0m \u001b[38;5;28mprint\u001b[39m(clean_sentence)\n",
      "\u001b[1;31mNameError\u001b[0m: name 'clean_sentence' is not defined"
     ]
    }
   ],
   "source": [
    "#remove special symbols / punctuations from a string.\n",
    "\n",
    "sentence = \"Rohit@gmail.com\"\n",
    "\n",
    "import re\n",
    "\n",
    "clean_sentence.sub('[^A-Za-z0-9\\s]+',\"\",sentence)\n",
    "\n",
    "print(clean_sentence)"
   ]
  },
  {
   "cell_type": "code",
   "execution_count": null,
   "id": "be133e94",
   "metadata": {},
   "outputs": [],
   "source": []
  }
 ],
 "metadata": {
  "kernelspec": {
   "display_name": "Python 3 (ipykernel)",
   "language": "python",
   "name": "python3"
  },
  "language_info": {
   "codemirror_mode": {
    "name": "ipython",
    "version": 3
   },
   "file_extension": ".py",
   "mimetype": "text/x-python",
   "name": "python",
   "nbconvert_exporter": "python",
   "pygments_lexer": "ipython3",
   "version": "3.11.4"
  }
 },
 "nbformat": 4,
 "nbformat_minor": 5
}
